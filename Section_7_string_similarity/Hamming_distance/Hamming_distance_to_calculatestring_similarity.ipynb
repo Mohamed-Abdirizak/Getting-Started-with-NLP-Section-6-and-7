{
  "nbformat": 4,
  "nbformat_minor": 0,
  "metadata": {
    "colab": {
      "provenance": []
    },
    "kernelspec": {
      "name": "python3",
      "display_name": "Python 3"
    }
  },
  "cells": [
    {
      "cell_type": "code",
      "metadata": {
        "id": "3xwSbEIots4Y"
      },
      "source": [
        "# importing the library\n",
        "from scipy.spatial import distance"
      ],
      "execution_count": 1,
      "outputs": []
    },
    {
      "cell_type": "code",
      "metadata": {
        "id": "KBqIt51XuIlg"
      },
      "source": [
        "# defining two strings\n",
        "string_1 = 'Hassan'\n",
        "string_2 = 'Xassan'"
      ],
      "execution_count": 5,
      "outputs": []
    },
    {
      "cell_type": "code",
      "metadata": {
        "id": "LYQ44f5tuQR7",
        "colab": {
          "base_uri": "https://localhost:8080/"
        },
        "outputId": "46c2fd85-9431-4ff5-9657-31e4a59216dc"
      },
      "source": [
        "# computing the normalized hamming distance\n",
        "hamming_distance = distance.hamming(list(string_1), list(string_2))\n",
        "print('Normalized Hamming Distance b/w', string_1, 'and', string_2, 'is: ', hamming_distance)"
      ],
      "execution_count": 6,
      "outputs": [
        {
          "output_type": "stream",
          "name": "stdout",
          "text": [
            "Normalized Hamming Distance b/w Hassan and Xassan is:  0.16666666666666666\n"
          ]
        }
      ]
    },
    {
      "cell_type": "code",
      "metadata": {
        "id": "Qa0LrdkfuWPp",
        "colab": {
          "base_uri": "https://localhost:8080/"
        },
        "outputId": "bcb848c1-a4f9-4895-d0af-1c1bbc0b2543"
      },
      "source": [
        "# original hamming distance\n",
        "print('Hamming Distance b/w', string_1, 'and', string_2, 'is: ', hamming_distance * len(string_1))"
      ],
      "execution_count": 7,
      "outputs": [
        {
          "output_type": "stream",
          "name": "stdout",
          "text": [
            "Hamming Distance b/w Hassan and Xassan is:  1.0\n"
          ]
        }
      ]
    },
    {
      "cell_type": "code",
      "metadata": {
        "id": "uYdcba5PNyWa"
      },
      "source": [],
      "execution_count": 4,
      "outputs": []
    }
  ]
}