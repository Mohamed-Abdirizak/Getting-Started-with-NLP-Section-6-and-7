{
  "nbformat": 4,
  "nbformat_minor": 0,
  "metadata": {
    "kernelspec": {
      "display_name": "Python 3",
      "language": "python",
      "name": "python3"
    },
    "language_info": {
      "codemirror_mode": {
        "name": "ipython",
        "version": 3
      },
      "file_extension": ".py",
      "mimetype": "text/x-python",
      "name": "python",
      "nbconvert_exporter": "python",
      "pygments_lexer": "ipython3",
      "version": "3.6.7"
    },
    "colab": {
      "provenance": []
    }
  },
  "cells": [
    {
      "cell_type": "code",
      "metadata": {
        "id": "xwujk3dRjkup"
      },
      "source": [
        "import spacy"
      ],
      "execution_count": null,
      "outputs": []
    },
    {
      "cell_type": "code",
      "metadata": {
        "id": "-Cm3dVGMjkvP"
      },
      "source": [
        "# Defining the string\n",
        "text=\"With great power comes great responsibility.\""
      ],
      "execution_count": null,
      "outputs": []
    },
    {
      "cell_type": "code",
      "metadata": {
        "id": "huvTbq7fjkvY"
      },
      "source": [
        "# Loading the model\n",
        "nlp=spacy.load('en_core_web_sm')"
      ],
      "execution_count": null,
      "outputs": []
    },
    {
      "cell_type": "code",
      "metadata": {
        "id": "WHFHbjGsjkvg"
      },
      "source": [
        "\n",
        "# Creating Doc object\n",
        "doc=nlp(text)"
      ],
      "execution_count": null,
      "outputs": []
    },
    {
      "cell_type": "code",
      "metadata": {
        "id": "K1sqN0-Rjkvo",
        "colab": {
          "base_uri": "https://localhost:8080/",
          "height": 139
        },
        "outputId": "45f70107-f9ed-4ac7-9e6c-a360545e00d8"
      },
      "source": [
        "\n",
        "# Getting POS tags\n",
        "for token in doc:\n",
        "    print(token.text,'=>',token.pos_,'=>',token.tag_)"
      ],
      "execution_count": null,
      "outputs": [
        {
          "output_type": "stream",
          "text": [
            "With => ADP => IN\n",
            "great => ADJ => JJ\n",
            "power => NOUN => NN\n",
            "comes => VERB => VBZ\n",
            "great => ADJ => JJ\n",
            "responsibility => NOUN => NN\n",
            ". => PUNCT => .\n"
          ],
          "name": "stdout"
        }
      ]
    },
    {
      "cell_type": "code",
      "metadata": {
        "id": "b2guZjnBjkvy"
      },
      "source": [
        "# Defining the string\n",
        "text=\"The teacher reads a book to her students then asks them questions about the story.\""
      ],
      "execution_count": null,
      "outputs": []
    },
    {
      "cell_type": "code",
      "metadata": {
        "id": "97uhzyoujkv6"
      },
      "source": [
        "# Creating Doc object\n",
        "doc=nlp(text)"
      ],
      "execution_count": null,
      "outputs": []
    },
    {
      "cell_type": "code",
      "metadata": {
        "id": "KjDJHck_jkwD",
        "colab": {
          "base_uri": "https://localhost:8080/",
          "height": 295
        },
        "outputId": "2581b48b-a09c-4b62-c512-8ee60084d506"
      },
      "source": [
        "# Getting POS tags\n",
        "for token in doc:\n",
        "    print(token.text,'=>',token.pos_,'=>',token.tag_)"
      ],
      "execution_count": null,
      "outputs": [
        {
          "output_type": "stream",
          "text": [
            "The => DET => DT\n",
            "teacher => NOUN => NN\n",
            "reads => VERB => VBZ\n",
            "a => DET => DT\n",
            "book => NOUN => NN\n",
            "to => ADP => IN\n",
            "her => DET => PRP$\n",
            "students => NOUN => NNS\n",
            "then => ADV => RB\n",
            "asks => VERB => VBZ\n",
            "them => PRON => PRP\n",
            "questions => NOUN => NNS\n",
            "about => ADP => IN\n",
            "the => DET => DT\n",
            "story => NOUN => NN\n",
            ". => PUNCT => .\n"
          ],
          "name": "stdout"
        }
      ]
    },
    {
      "cell_type": "code",
      "metadata": {
        "id": "Gz1Mr0MEjkwL",
        "colab": {
          "base_uri": "https://localhost:8080/",
          "height": 34
        },
        "outputId": "217cd0f6-630b-4d41-aaab-6748dcf9b88f"
      },
      "source": [
        "# Extracting verbs from the sentence\n",
        "[token.text for token in doc if(token.pos_=='VERB')]"
      ],
      "execution_count": null,
      "outputs": [
        {
          "output_type": "execute_result",
          "data": {
            "text/plain": [
              "['reads', 'asks']"
            ]
          },
          "metadata": {
            "tags": []
          },
          "execution_count": 9
        }
      ]
    },
    {
      "cell_type": "code",
      "metadata": {
        "id": "gM6Foq6-jkwS"
      },
      "source": [
        "# Extracting nouns from the sentence\n",
        "[token.text for token in doc if(token.pos_=='NOUN')]"
      ],
      "execution_count": null,
      "outputs": []
    },
    {
      "cell_type": "code",
      "source": [],
      "metadata": {
        "id": "r8STVHe4230J"
      },
      "execution_count": null,
      "outputs": []
    },
    {
      "cell_type": "code",
      "source": [],
      "metadata": {
        "id": "989S0mOv233H"
      },
      "execution_count": null,
      "outputs": []
    },
    {
      "cell_type": "markdown",
      "source": [
        "## Exercise"
      ],
      "metadata": {
        "id": "A4nj4o_M24tn"
      }
    },
    {
      "cell_type": "code",
      "source": [
        "from google.colab import drive\n",
        "drive.mount('/content/drive')"
      ],
      "metadata": {
        "colab": {
          "base_uri": "https://localhost:8080/"
        },
        "id": "C5NIBXfd235-",
        "outputId": "f165d1b5-ab04-4daf-dd21-a96dc52adb89"
      },
      "execution_count": 1,
      "outputs": [
        {
          "output_type": "stream",
          "name": "stdout",
          "text": [
            "Mounted at /content/drive\n"
          ]
        }
      ]
    },
    {
      "cell_type": "code",
      "source": [
        "!unzip /content/drive/MyDrive/Courses/GettingStartedWithNPLcourseFromAnalysticsVidhya/Section_6_infomation_extraction/moon.zip"
      ],
      "metadata": {
        "colab": {
          "base_uri": "https://localhost:8080/"
        },
        "id": "V1D8MoqZ26X0",
        "outputId": "e0eaee18-81a9-447c-8744-aab838d08663"
      },
      "execution_count": 2,
      "outputs": [
        {
          "output_type": "stream",
          "name": "stdout",
          "text": [
            "Archive:  /content/drive/MyDrive/Courses/GettingStartedWithNPLcourseFromAnalysticsVidhya/Section_6_infomation_extraction/moon.zip\n",
            "  inflating: moon.txt                \n"
          ]
        }
      ]
    },
    {
      "cell_type": "code",
      "source": [
        "# Reading the file using open()\n",
        "file=open('moon.txt',mode='r',encoding='utf-8')\n",
        "\n",
        "# Getting text data as string\n",
        "text=file.read()\n",
        "\n",
        "# Closing the file\n",
        "file.close()"
      ],
      "metadata": {
        "id": "Dwcu8CLw26bG"
      },
      "execution_count": 3,
      "outputs": []
    },
    {
      "cell_type": "code",
      "source": [
        "print(text)"
      ],
      "metadata": {
        "colab": {
          "base_uri": "https://localhost:8080/"
        },
        "id": "gcf6ykqF26ez",
        "outputId": "5a98c843-a05c-4553-b2be-207bc12764fb"
      },
      "execution_count": 5,
      "outputs": [
        {
          "output_type": "stream",
          "name": "stdout",
          "text": [
            "The moon is the satellite of the earth. It moves round the earth. It shines at night by light reflected from the Sun. It looks beautiful. The bright Moonlight is very soothing. The earthly objects shine like silver in the moonlight. We are fascinated by the enchanting beauty of the Moon. The moon is not as beautiful as it looks. It seems to be lovely when it shines in the sky at night. As a matter of fact it is devoid of plants and animals. The moon is not a suitable place for plants and animals. Therefore, no form of life can be found on the moon. Unlike the earth, the moon has got no atmosphere. Therefore, the lunar days are very hot and the lunar nights are intensely cold. The moon looks beautiful from the earth but in fact it has up forbidding appearance. It is full of rocks and craters. When we look at the moon at night we see some dark spots on it. These dark spots are dangerous rocks and craters. The gravitational pull of the moon is less than that of the earth, so it is difficult to walk on the surface of the Moon. The moon has fascinated man since the beginning of his life on the earth. He has looked at it with wonder. Many poets have composed beautiful poems on the moon. Scientists tried to reveal the mystery of the moon. They wanted to send human to the moon. Several attempts were made to place man on the moon. At last two Americans-Neil Armstrong and Edwin Aldrin-reached the moon on July 21, 1969. They walked on the surface of the moon and collected the lunar rocks. They returned to the earth safely. The American scientists have sent men to the moon several times. Now the moon has been conquered by man. It is no longer a mysterious object. The journey of the moon may be thrilling but it cannot make our life on the earth happy. It is better to have a happy life on the earth then to go to the moon.\n",
            "\n"
          ]
        }
      ]
    },
    {
      "cell_type": "code",
      "source": [
        "import spacy"
      ],
      "metadata": {
        "id": "JPSe5moY26h7"
      },
      "execution_count": 8,
      "outputs": []
    },
    {
      "cell_type": "code",
      "source": [
        "# Loading the model\n",
        "nlp=spacy.load('en_core_web_sm')\n"
      ],
      "metadata": {
        "id": "AZaLZnME3j0J"
      },
      "execution_count": 9,
      "outputs": []
    },
    {
      "cell_type": "code",
      "source": [
        "# Creating Doc object\n",
        "doc=nlp(text)\n"
      ],
      "metadata": {
        "id": "Tt5jzK7L3j4M"
      },
      "execution_count": 10,
      "outputs": []
    },
    {
      "cell_type": "code",
      "source": [
        "# Getting POS tags\n",
        "for token in doc:\n",
        "    print(token.text,'=>',token.pos_,'=>',token.tag_)"
      ],
      "metadata": {
        "colab": {
          "base_uri": "https://localhost:8080/"
        },
        "id": "q6FL0Q5c3j8f",
        "outputId": "a072066c-b287-4515-dd65-9023b85f47b5"
      },
      "execution_count": 11,
      "outputs": [
        {
          "output_type": "stream",
          "name": "stdout",
          "text": [
            "The => DET => DT\n",
            "moon => NOUN => NN\n",
            "is => AUX => VBZ\n",
            "the => DET => DT\n",
            "satellite => NOUN => NN\n",
            "of => ADP => IN\n",
            "the => DET => DT\n",
            "earth => NOUN => NN\n",
            ". => PUNCT => .\n",
            "It => PRON => PRP\n",
            "moves => VERB => VBZ\n",
            "round => ADP => IN\n",
            "the => DET => DT\n",
            "earth => NOUN => NN\n",
            ". => PUNCT => .\n",
            "It => PRON => PRP\n",
            "shines => VERB => VBZ\n",
            "at => ADP => IN\n",
            "night => NOUN => NN\n",
            "by => ADP => IN\n",
            "light => NOUN => NN\n",
            "reflected => VERB => VBN\n",
            "from => ADP => IN\n",
            "the => DET => DT\n",
            "Sun => PROPN => NNP\n",
            ". => PUNCT => .\n",
            "It => PRON => PRP\n",
            "looks => VERB => VBZ\n",
            "beautiful => ADJ => JJ\n",
            ". => PUNCT => .\n",
            "The => DET => DT\n",
            "bright => ADJ => JJ\n",
            "Moonlight => PROPN => NNP\n",
            "is => AUX => VBZ\n",
            "very => ADV => RB\n",
            "soothing => ADJ => JJ\n",
            ". => PUNCT => .\n",
            "The => DET => DT\n",
            "earthly => ADJ => JJ\n",
            "objects => NOUN => NNS\n",
            "shine => VERB => VBP\n",
            "like => ADP => IN\n",
            "silver => NOUN => NN\n",
            "in => ADP => IN\n",
            "the => DET => DT\n",
            "moonlight => NOUN => NN\n",
            ". => PUNCT => .\n",
            "We => PRON => PRP\n",
            "are => AUX => VBP\n",
            "fascinated => VERB => VBN\n",
            "by => ADP => IN\n",
            "the => DET => DT\n",
            "enchanting => ADJ => JJ\n",
            "beauty => NOUN => NN\n",
            "of => ADP => IN\n",
            "the => DET => DT\n",
            "Moon => PROPN => NNP\n",
            ". => PUNCT => .\n",
            "The => DET => DT\n",
            "moon => NOUN => NN\n",
            "is => AUX => VBZ\n",
            "not => PART => RB\n",
            "as => ADV => RB\n",
            "beautiful => ADJ => JJ\n",
            "as => SCONJ => IN\n",
            "it => PRON => PRP\n",
            "looks => VERB => VBZ\n",
            ". => PUNCT => .\n",
            "It => PRON => PRP\n",
            "seems => VERB => VBZ\n",
            "to => PART => TO\n",
            "be => AUX => VB\n",
            "lovely => ADJ => JJ\n",
            "when => SCONJ => WRB\n",
            "it => PRON => PRP\n",
            "shines => VERB => VBZ\n",
            "in => ADP => IN\n",
            "the => DET => DT\n",
            "sky => NOUN => NN\n",
            "at => ADP => IN\n",
            "night => NOUN => NN\n",
            ". => PUNCT => .\n",
            "As => ADP => IN\n",
            "a => DET => DT\n",
            "matter => NOUN => NN\n",
            "of => ADP => IN\n",
            "fact => NOUN => NN\n",
            "it => PRON => PRP\n",
            "is => AUX => VBZ\n",
            "devoid => ADJ => JJ\n",
            "of => ADP => IN\n",
            "plants => NOUN => NNS\n",
            "and => CCONJ => CC\n",
            "animals => NOUN => NNS\n",
            ". => PUNCT => .\n",
            "The => DET => DT\n",
            "moon => NOUN => NN\n",
            "is => AUX => VBZ\n",
            "not => PART => RB\n",
            "a => DET => DT\n",
            "suitable => ADJ => JJ\n",
            "place => NOUN => NN\n",
            "for => ADP => IN\n",
            "plants => NOUN => NNS\n",
            "and => CCONJ => CC\n",
            "animals => NOUN => NNS\n",
            ". => PUNCT => .\n",
            "Therefore => ADV => RB\n",
            ", => PUNCT => ,\n",
            "no => DET => DT\n",
            "form => NOUN => NN\n",
            "of => ADP => IN\n",
            "life => NOUN => NN\n",
            "can => AUX => MD\n",
            "be => AUX => VB\n",
            "found => VERB => VBN\n",
            "on => ADP => IN\n",
            "the => DET => DT\n",
            "moon => NOUN => NN\n",
            ". => PUNCT => .\n",
            "Unlike => ADP => IN\n",
            "the => DET => DT\n",
            "earth => NOUN => NN\n",
            ", => PUNCT => ,\n",
            "the => DET => DT\n",
            "moon => NOUN => NN\n",
            "has => AUX => VBZ\n",
            "got => VERB => VBN\n",
            "no => DET => DT\n",
            "atmosphere => NOUN => NN\n",
            ". => PUNCT => .\n",
            "Therefore => ADV => RB\n",
            ", => PUNCT => ,\n",
            "the => DET => DT\n",
            "lunar => ADJ => JJ\n",
            "days => NOUN => NNS\n",
            "are => AUX => VBP\n",
            "very => ADV => RB\n",
            "hot => ADJ => JJ\n",
            "and => CCONJ => CC\n",
            "the => DET => DT\n",
            "lunar => ADJ => JJ\n",
            "nights => NOUN => NNS\n",
            "are => AUX => VBP\n",
            "intensely => ADV => RB\n",
            "cold => ADJ => JJ\n",
            ". => PUNCT => .\n",
            "The => DET => DT\n",
            "moon => NOUN => NN\n",
            "looks => VERB => VBZ\n",
            "beautiful => ADJ => JJ\n",
            "from => ADP => IN\n",
            "the => DET => DT\n",
            "earth => NOUN => NN\n",
            "but => CCONJ => CC\n",
            "in => ADP => IN\n",
            "fact => NOUN => NN\n",
            "it => PRON => PRP\n",
            "has => VERB => VBZ\n",
            "up => ADP => RP\n",
            "forbidding => VERB => VBG\n",
            "appearance => NOUN => NN\n",
            ". => PUNCT => .\n",
            "It => PRON => PRP\n",
            "is => AUX => VBZ\n",
            "full => ADJ => JJ\n",
            "of => ADP => IN\n",
            "rocks => NOUN => NNS\n",
            "and => CCONJ => CC\n",
            "craters => NOUN => NNS\n",
            ". => PUNCT => .\n",
            "When => SCONJ => WRB\n",
            "we => PRON => PRP\n",
            "look => VERB => VBP\n",
            "at => ADP => IN\n",
            "the => DET => DT\n",
            "moon => NOUN => NN\n",
            "at => ADP => IN\n",
            "night => NOUN => NN\n",
            "we => PRON => PRP\n",
            "see => VERB => VBP\n",
            "some => DET => DT\n",
            "dark => ADJ => JJ\n",
            "spots => NOUN => NNS\n",
            "on => ADP => IN\n",
            "it => PRON => PRP\n",
            ". => PUNCT => .\n",
            "These => DET => DT\n",
            "dark => ADJ => JJ\n",
            "spots => NOUN => NNS\n",
            "are => AUX => VBP\n",
            "dangerous => ADJ => JJ\n",
            "rocks => NOUN => NNS\n",
            "and => CCONJ => CC\n",
            "craters => NOUN => NNS\n",
            ". => PUNCT => .\n",
            "The => DET => DT\n",
            "gravitational => ADJ => JJ\n",
            "pull => NOUN => NN\n",
            "of => ADP => IN\n",
            "the => DET => DT\n",
            "moon => NOUN => NN\n",
            "is => AUX => VBZ\n",
            "less => ADJ => JJR\n",
            "than => ADP => IN\n",
            "that => PRON => DT\n",
            "of => ADP => IN\n",
            "the => DET => DT\n",
            "earth => NOUN => NN\n",
            ", => PUNCT => ,\n",
            "so => SCONJ => IN\n",
            "it => PRON => PRP\n",
            "is => AUX => VBZ\n",
            "difficult => ADJ => JJ\n",
            "to => PART => TO\n",
            "walk => VERB => VB\n",
            "on => ADP => IN\n",
            "the => DET => DT\n",
            "surface => NOUN => NN\n",
            "of => ADP => IN\n",
            "the => DET => DT\n",
            "Moon => PROPN => NNP\n",
            ". => PUNCT => .\n",
            "The => DET => DT\n",
            "moon => NOUN => NN\n",
            "has => VERB => VBZ\n",
            "fascinated => VERB => VBN\n",
            "man => NOUN => NN\n",
            "since => SCONJ => IN\n",
            "the => DET => DT\n",
            "beginning => NOUN => NN\n",
            "of => ADP => IN\n",
            "his => PRON => PRP$\n",
            "life => NOUN => NN\n",
            "on => ADP => IN\n",
            "the => DET => DT\n",
            "earth => NOUN => NN\n",
            ". => PUNCT => .\n",
            "He => PRON => PRP\n",
            "has => AUX => VBZ\n",
            "looked => VERB => VBN\n",
            "at => ADP => IN\n",
            "it => PRON => PRP\n",
            "with => ADP => IN\n",
            "wonder => NOUN => NN\n",
            ". => PUNCT => .\n",
            "Many => ADJ => JJ\n",
            "poets => NOUN => NNS\n",
            "have => AUX => VBP\n",
            "composed => VERB => VBN\n",
            "beautiful => ADJ => JJ\n",
            "poems => NOUN => NNS\n",
            "on => ADP => IN\n",
            "the => DET => DT\n",
            "moon => NOUN => NN\n",
            ". => PUNCT => .\n",
            "Scientists => NOUN => NNS\n",
            "tried => VERB => VBD\n",
            "to => PART => TO\n",
            "reveal => VERB => VB\n",
            "the => DET => DT\n",
            "mystery => NOUN => NN\n",
            "of => ADP => IN\n",
            "the => DET => DT\n",
            "moon => NOUN => NN\n",
            ". => PUNCT => .\n",
            "They => PRON => PRP\n",
            "wanted => VERB => VBD\n",
            "to => PART => TO\n",
            "send => VERB => VB\n",
            "human => NOUN => NN\n",
            "to => ADP => IN\n",
            "the => DET => DT\n",
            "moon => NOUN => NN\n",
            ". => PUNCT => .\n",
            "Several => ADJ => JJ\n",
            "attempts => NOUN => NNS\n",
            "were => AUX => VBD\n",
            "made => VERB => VBN\n",
            "to => PART => TO\n",
            "place => VERB => VB\n",
            "man => NOUN => NN\n",
            "on => ADP => IN\n",
            "the => DET => DT\n",
            "moon => NOUN => NN\n",
            ". => PUNCT => .\n",
            "At => ADP => IN\n",
            "last => ADJ => JJ\n",
            "two => NUM => CD\n",
            "Americans => PROPN => NNPS\n",
            "- => PUNCT => :\n",
            "Neil => PROPN => NNP\n",
            "Armstrong => PROPN => NNP\n",
            "and => CCONJ => CC\n",
            "Edwin => PROPN => NNP\n",
            "Aldrin => PROPN => NNP\n",
            "- => PUNCT => HYPH\n",
            "reached => VERB => VBD\n",
            "the => DET => DT\n",
            "moon => NOUN => NN\n",
            "on => ADP => IN\n",
            "July => PROPN => NNP\n",
            "21 => NUM => CD\n",
            ", => PUNCT => ,\n",
            "1969 => NUM => CD\n",
            ". => PUNCT => .\n",
            "They => PRON => PRP\n",
            "walked => VERB => VBD\n",
            "on => ADP => IN\n",
            "the => DET => DT\n",
            "surface => NOUN => NN\n",
            "of => ADP => IN\n",
            "the => DET => DT\n",
            "moon => NOUN => NN\n",
            "and => CCONJ => CC\n",
            "collected => VERB => VBD\n",
            "the => DET => DT\n",
            "lunar => ADJ => JJ\n",
            "rocks => NOUN => NNS\n",
            ". => PUNCT => .\n",
            "They => PRON => PRP\n",
            "returned => VERB => VBD\n",
            "to => ADP => IN\n",
            "the => DET => DT\n",
            "earth => NOUN => NN\n",
            "safely => ADV => RB\n",
            ". => PUNCT => .\n",
            "The => DET => DT\n",
            "American => ADJ => JJ\n",
            "scientists => NOUN => NNS\n",
            "have => AUX => VBP\n",
            "sent => VERB => VBN\n",
            "men => NOUN => NNS\n",
            "to => ADP => IN\n",
            "the => DET => DT\n",
            "moon => NOUN => NN\n",
            "several => ADJ => JJ\n",
            "times => NOUN => NNS\n",
            ". => PUNCT => .\n",
            "Now => ADV => RB\n",
            "the => DET => DT\n",
            "moon => NOUN => NN\n",
            "has => AUX => VBZ\n",
            "been => AUX => VBN\n",
            "conquered => VERB => VBN\n",
            "by => ADP => IN\n",
            "man => NOUN => NN\n",
            ". => PUNCT => .\n",
            "It => PRON => PRP\n",
            "is => AUX => VBZ\n",
            "no => ADV => RB\n",
            "longer => ADV => RBR\n",
            "a => DET => DT\n",
            "mysterious => ADJ => JJ\n",
            "object => NOUN => NN\n",
            ". => PUNCT => .\n",
            "The => DET => DT\n",
            "journey => NOUN => NN\n",
            "of => ADP => IN\n",
            "the => DET => DT\n",
            "moon => NOUN => NN\n",
            "may => AUX => MD\n",
            "be => AUX => VB\n",
            "thrilling => VERB => VBG\n",
            "but => CCONJ => CC\n",
            "it => PRON => PRP\n",
            "can => AUX => MD\n",
            "not => PART => RB\n",
            "make => VERB => VB\n",
            "our => PRON => PRP$\n",
            "life => NOUN => NN\n",
            "on => ADP => IN\n",
            "the => DET => DT\n",
            "earth => NOUN => NN\n",
            "happy => ADJ => JJ\n",
            ". => PUNCT => .\n",
            "It => PRON => PRP\n",
            "is => AUX => VBZ\n",
            "better => ADJ => JJR\n",
            "to => PART => TO\n",
            "have => VERB => VB\n",
            "a => DET => DT\n",
            "happy => ADJ => JJ\n",
            "life => NOUN => NN\n",
            "on => ADP => IN\n",
            "the => DET => DT\n",
            "earth => NOUN => NN\n",
            "then => ADV => RB\n",
            "to => PART => TO\n",
            "go => VERB => VB\n",
            "to => ADP => IN\n",
            "the => DET => DT\n",
            "moon => NOUN => NN\n",
            ". => PUNCT => .\n",
            "\n",
            " => SPACE => _SP\n"
          ]
        }
      ]
    },
    {
      "cell_type": "code",
      "source": [],
      "metadata": {
        "id": "4OoKccVA26lC"
      },
      "execution_count": null,
      "outputs": []
    },
    {
      "cell_type": "code",
      "source": [],
      "metadata": {
        "id": "-h8Z9m2w37bf"
      },
      "execution_count": null,
      "outputs": []
    },
    {
      "cell_type": "markdown",
      "source": [
        "## counting the number of words of nouns and verbs"
      ],
      "metadata": {
        "id": "mFkkRdIV4AiJ"
      }
    },
    {
      "cell_type": "code",
      "source": [
        "# Extracting verbs from the sentence\n",
        "verbVar = [token.text for token in doc if(token.pos_=='VERB')]\n"
      ],
      "metadata": {
        "id": "tUc8XTtq37er"
      },
      "execution_count": 14,
      "outputs": []
    },
    {
      "cell_type": "code",
      "source": [
        "# print the verbs\n",
        "verbVar"
      ],
      "metadata": {
        "colab": {
          "base_uri": "https://localhost:8080/"
        },
        "id": "C2YHMUnZ4RVm",
        "outputId": "bc5e5b4d-1589-4afe-9d55-0d29225f9c45"
      },
      "execution_count": 15,
      "outputs": [
        {
          "output_type": "execute_result",
          "data": {
            "text/plain": [
              "['moves',\n",
              " 'shines',\n",
              " 'reflected',\n",
              " 'looks',\n",
              " 'shine',\n",
              " 'fascinated',\n",
              " 'looks',\n",
              " 'seems',\n",
              " 'shines',\n",
              " 'found',\n",
              " 'got',\n",
              " 'looks',\n",
              " 'has',\n",
              " 'forbidding',\n",
              " 'look',\n",
              " 'see',\n",
              " 'walk',\n",
              " 'has',\n",
              " 'fascinated',\n",
              " 'looked',\n",
              " 'composed',\n",
              " 'tried',\n",
              " 'reveal',\n",
              " 'wanted',\n",
              " 'send',\n",
              " 'made',\n",
              " 'place',\n",
              " 'reached',\n",
              " 'walked',\n",
              " 'collected',\n",
              " 'returned',\n",
              " 'sent',\n",
              " 'conquered',\n",
              " 'thrilling',\n",
              " 'make',\n",
              " 'have',\n",
              " 'go']"
            ]
          },
          "metadata": {},
          "execution_count": 15
        }
      ]
    },
    {
      "cell_type": "code",
      "source": [
        "# how many words are verbs on my text\n",
        "len(verbVar)"
      ],
      "metadata": {
        "colab": {
          "base_uri": "https://localhost:8080/"
        },
        "id": "wwsN1ouQ4US7",
        "outputId": "32dfd6f0-71df-4c0b-f6c9-0b6bdb42d1a5"
      },
      "execution_count": 16,
      "outputs": [
        {
          "output_type": "execute_result",
          "data": {
            "text/plain": [
              "37"
            ]
          },
          "metadata": {},
          "execution_count": 16
        }
      ]
    },
    {
      "cell_type": "code",
      "source": [],
      "metadata": {
        "id": "rPCldQnV4a1Z"
      },
      "execution_count": null,
      "outputs": []
    },
    {
      "cell_type": "code",
      "source": [],
      "metadata": {
        "id": "FGt6vhWt4a6R"
      },
      "execution_count": null,
      "outputs": []
    },
    {
      "cell_type": "code",
      "source": [
        "# Extracting verbs from the sentence\n",
        "nounVar = [token.text for token in doc if(token.pos_=='NOUN')]\n"
      ],
      "metadata": {
        "id": "3QoOKhj54Ivh"
      },
      "execution_count": 17,
      "outputs": []
    },
    {
      "cell_type": "code",
      "source": [
        "# displaying the noun words\n",
        "print(nounVar)"
      ],
      "metadata": {
        "colab": {
          "base_uri": "https://localhost:8080/"
        },
        "id": "dtJf244H4MHT",
        "outputId": "bb1fb54a-7e25-4623-abfa-4f95c255e03a"
      },
      "execution_count": 18,
      "outputs": [
        {
          "output_type": "stream",
          "name": "stdout",
          "text": [
            "['moon', 'satellite', 'earth', 'earth', 'night', 'light', 'objects', 'silver', 'moonlight', 'beauty', 'moon', 'sky', 'night', 'matter', 'fact', 'plants', 'animals', 'moon', 'place', 'plants', 'animals', 'form', 'life', 'moon', 'earth', 'moon', 'atmosphere', 'days', 'nights', 'moon', 'earth', 'fact', 'appearance', 'rocks', 'craters', 'moon', 'night', 'spots', 'spots', 'rocks', 'craters', 'pull', 'moon', 'earth', 'surface', 'moon', 'man', 'beginning', 'life', 'earth', 'wonder', 'poets', 'poems', 'moon', 'Scientists', 'mystery', 'moon', 'human', 'moon', 'attempts', 'man', 'moon', 'moon', 'surface', 'moon', 'rocks', 'earth', 'scientists', 'men', 'moon', 'times', 'moon', 'man', 'object', 'journey', 'moon', 'life', 'earth', 'life', 'earth', 'moon']\n"
          ]
        }
      ]
    },
    {
      "cell_type": "code",
      "source": [
        "# how many words are nouns\n",
        "len(nounVar)"
      ],
      "metadata": {
        "colab": {
          "base_uri": "https://localhost:8080/"
        },
        "id": "3Ip9PgG64iN0",
        "outputId": "b6913002-4c42-4301-9912-68413600c0fe"
      },
      "execution_count": 19,
      "outputs": [
        {
          "output_type": "execute_result",
          "data": {
            "text/plain": [
              "81"
            ]
          },
          "metadata": {},
          "execution_count": 19
        }
      ]
    },
    {
      "cell_type": "code",
      "source": [],
      "metadata": {
        "id": "FUwSdpzh4kmZ"
      },
      "execution_count": null,
      "outputs": []
    }
  ]
}